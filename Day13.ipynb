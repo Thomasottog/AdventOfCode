{
 "cells": [
  {
   "cell_type": "code",
   "execution_count": 1,
   "id": "0c6e7422-756f-4f10-9e0d-6dbea5871355",
   "metadata": {},
   "outputs": [
    {
     "data": {
      "text/html": [
       "<style>.container { width:100% !important; }</style>"
      ],
      "text/plain": [
       "<IPython.core.display.HTML object>"
      ]
     },
     "metadata": {},
     "output_type": "display_data"
    }
   ],
   "source": [
    "from IPython.display import display, HTML\n",
    "display(HTML(\"<style>.container { width:100% !important; }</style>\"))"
   ]
  },
  {
   "cell_type": "code",
   "execution_count": 2,
   "id": "aa2a1005-5a74-4d17-908d-bb83ea44633e",
   "metadata": {},
   "outputs": [],
   "source": [
    "import os\n",
    "import math\n",
    "os.chdir('C:\\\\Users\\\\Ottogalli\\\\Documents\\\\Python Scripts\\\\AoC')"
   ]
  },
  {
   "cell_type": "code",
   "execution_count": 49,
   "id": "cff477d5-6cba-472c-946b-9ab092b89dec",
   "metadata": {},
   "outputs": [],
   "source": [
    "total=0\n",
    "i=0\n",
    "path=[]\n",
    "with open(\"input13.txt\",\"r\") as f:\n",
    "    for line in f:\n",
    "        path.append(line.rstrip().split())\n",
    "        \n",
    "f.close()"
   ]
  },
  {
   "cell_type": "code",
   "execution_count": 50,
   "id": "d8e5a8a6-df50-4f32-95fd-259f321a07af",
   "metadata": {},
   "outputs": [],
   "source": [
    "machines=[]\n",
    "for i in range((len(path)+1)//4):\n",
    "    AtargetX=int(path[4*i][2][2:path[4*i][2].index(\",\")])\n",
    "    AtargetY=int(path[4*i][3][2:])\n",
    "    BtargetX=int(path[4*i+1][2][2:path[4*i+1][2].index(\",\")])\n",
    "    BtargetY=int(path[4*i+1][3][2:])\n",
    "    PrizeA = int(path[4*i+2][1][2:path[4*i+2][1].index(\",\")])\n",
    "    PrizeB = int(path[4*i+2][2][2:])\n",
    "    machines.append([AtargetX,AtargetY,BtargetX,BtargetY,PrizeA,PrizeB])"
   ]
  },
  {
   "cell_type": "code",
   "execution_count": 51,
   "id": "79641977-a814-4f5c-a639-f0533f38bf81",
   "metadata": {},
   "outputs": [],
   "source": [
    "def solve(list):\n",
    "    res2 = (list[1]*list[4]-list[0]*list[5])/(list[2]*list[1]-list[0]*list[3])\n",
    "    res1 = (list[3]*list[4]-list[2]*list[5])/(-list[2]*list[1]+list[0]*list[3])\n",
    "    if res1.is_integer() and res1.is_integer():\n",
    "        return [int(res1), int(res2)]\n",
    "    else:\n",
    "        return [0,0]\n",
    "\n"
   ]
  },
  {
   "cell_type": "code",
   "execution_count": 52,
   "id": "b416b0cf-dbec-4df4-9621-46286692aedb",
   "metadata": {},
   "outputs": [
    {
     "data": {
      "text/plain": [
       "[1, 3]"
      ]
     },
     "execution_count": 52,
     "metadata": {},
     "output_type": "execute_result"
    }
   ],
   "source": [
    "solve([1,3,1,1,4,6])"
   ]
  },
  {
   "cell_type": "code",
   "execution_count": 53,
   "id": "456f19e9-f505-474b-8691-1926703d94c8",
   "metadata": {},
   "outputs": [
    {
     "name": "stdout",
     "output_type": "stream",
     "text": [
      "31761\n"
     ]
    }
   ],
   "source": [
    "total=0\n",
    "for machine in machines:\n",
    "    total+=solve(machine)[0]*3+solve(machine)[1]*1\n",
    "    #print(solve(machine))\n",
    "print(total)"
   ]
  },
  {
   "cell_type": "code",
   "execution_count": 54,
   "id": "74034ef1-2d7c-47c1-be44-66b572070ea6",
   "metadata": {},
   "outputs": [],
   "source": [
    "machines2=[]\n",
    "for i in range((len(path)+1)//4):\n",
    "    AtargetX=int(path[4*i][2][2:path[4*i][2].index(\",\")])\n",
    "    AtargetY=int(path[4*i][3][2:])\n",
    "    BtargetX=int(path[4*i+1][2][2:path[4*i+1][2].index(\",\")])\n",
    "    BtargetY=int(path[4*i+1][3][2:])\n",
    "    PrizeA = int(path[4*i+2][1][2:path[4*i+2][1].index(\",\")])+10000000000000\n",
    "    PrizeB = int(path[4*i+2][2][2:])+10000000000000\n",
    "    machines2.append([AtargetX,AtargetY,BtargetX,BtargetY,PrizeA,PrizeB])"
   ]
  },
  {
   "cell_type": "code",
   "execution_count": 55,
   "id": "dcb71a5a-0cd1-43ed-acb3-719d4765b846",
   "metadata": {},
   "outputs": [
    {
     "name": "stdout",
     "output_type": "stream",
     "text": [
      "90798500745591\n"
     ]
    }
   ],
   "source": [
    "total2=0\n",
    "for machine in machines2:\n",
    "    total2+=solve(machine)[0]*3+solve(machine)[1]*1\n",
    "    #print(solve(machine))\n",
    "print(total2)"
   ]
  },
  {
   "cell_type": "code",
   "execution_count": null,
   "id": "e83cc7b5-0d58-4309-8fef-dce40f54c97c",
   "metadata": {},
   "outputs": [],
   "source": []
  }
 ],
 "metadata": {
  "kernelspec": {
   "display_name": "Python 3 (ipykernel)",
   "language": "python",
   "name": "python3"
  },
  "language_info": {
   "codemirror_mode": {
    "name": "ipython",
    "version": 3
   },
   "file_extension": ".py",
   "mimetype": "text/x-python",
   "name": "python",
   "nbconvert_exporter": "python",
   "pygments_lexer": "ipython3",
   "version": "3.12.4"
  }
 },
 "nbformat": 4,
 "nbformat_minor": 5
}
