{
 "cells": [
  {
   "cell_type": "code",
   "execution_count": 1,
   "id": "aa2a1005-5a74-4d17-908d-bb83ea44633e",
   "metadata": {},
   "outputs": [],
   "source": [
    "import os"
   ]
  },
  {
   "cell_type": "code",
   "execution_count": 2,
   "id": "fa009c8a-8210-4f85-bf72-ec305d99e095",
   "metadata": {},
   "outputs": [],
   "source": [
    "import math"
   ]
  },
  {
   "cell_type": "code",
   "execution_count": 3,
   "id": "e8e8f23d-260a-453a-a32a-21aa5fcd66fb",
   "metadata": {},
   "outputs": [],
   "source": [
    "os.chdir('C:\\\\Users\\\\Ottogalli\\\\Documents\\\\Python Scripts\\\\AoC')"
   ]
  },
  {
   "cell_type": "code",
   "execution_count": 35,
   "id": "1fe43b91-19a2-4c21-bcfd-c84945832dfc",
   "metadata": {},
   "outputs": [],
   "source": [
    "def checkup(i,j,list):\n",
    "    if i> 2 and list[i][j] == \"X\" and list[i-1][j] == \"M\" and list[i-2][j] == \"A\" and list[i-3][j] == \"S\":\n",
    "        return True\n",
    "    else:\n",
    "        return False\n",
    "\n",
    "def checkdown(i,j,list):\n",
    "    if i<len(list)-3 and list[i][j] == \"X\" and list[i+1][j] == \"M\" and list[i+2][j] == \"A\" and list[i+3][j] == \"S\":\n",
    "        return True\n",
    "    else:\n",
    "        return False\n",
    "\n",
    "def checkright(i,j,list):\n",
    "    if j<len(list[i])- 3 and list[i][j] == \"X\" and list[i][j+1] == \"M\" and list[i][j+2] == \"A\" and list[i][j+3] == \"S\":\n",
    "        return True\n",
    "    else:\n",
    "        return False\n",
    "\n",
    "def checkleft(i,j,list):\n",
    "    if j>2 and list[i][j] == \"X\" and list[i][j-1] == \"M\" and list[i][j-2] == \"A\" and list[i][j-3] == \"S\":\n",
    "        return True\n",
    "    else:\n",
    "        return False\n",
    "\n",
    "def checkupleft(i,j,list):\n",
    "    if i > 2 and j > 2 and list[i][j] == \"X\" and list[i-1][j-1] == \"M\" and list[i-2][j-2] == \"A\" and list[i-3][j-3] == \"S\":\n",
    "        return True\n",
    "    else:\n",
    "        return False\n",
    "\n",
    "def checkupright(i,j,list):\n",
    "    if i > 2 and j < len(list[i])-3 and list[i][j] == \"X\" and list[i-1][j+1] == \"M\" and list[i-2][j+2] == \"A\" and list[i-3][j+3] == \"S\":\n",
    "        return True\n",
    "    else:\n",
    "        return False\n",
    "\n",
    "def checkdownleft(i,j,list):\n",
    "    if i < len(list)-3 and j > 2 and list[i][j] == \"X\" and list[i+1][j-1] == \"M\" and list[i+2][j-2] == \"A\" and list[i+3][j-3] == \"S\":\n",
    "        return True\n",
    "    else:\n",
    "        return False\n",
    "\n",
    "def checkdownright(i,j,list):\n",
    "    if i < len(list)-3 and j < len(list[i])-3 and list[i][j] == \"X\" and list[i+1][j+1] == \"M\" and list[i+2][j+2] == \"A\" and list[i+3][j+3] == \"S\":\n",
    "        return True\n",
    "    else:\n",
    "        return False"
   ]
  },
  {
   "cell_type": "code",
   "execution_count": 36,
   "id": "b0e59b59-8232-483a-9bb1-f77229ae7211",
   "metadata": {},
   "outputs": [
    {
     "name": "stdout",
     "output_type": "stream",
     "text": [
      "2458\n"
     ]
    }
   ],
   "source": [
    "\n",
    "total=0\n",
    "i=0\n",
    "list=[]\n",
    "with open(\"input4.txt\",\"r\") as f:\n",
    "    for line in f:\n",
    "        list.append(line.rstrip())\n",
    "\n",
    "for i in range(len(list)):\n",
    "    for j in range(len(list[i])):\n",
    "        total+=checkup(i,j,list)+checkdown(i,j,list)+checkleft(i,j,list)+checkright(i,j,list)+checkupright(i,j,list)+checkupleft(i,j,list)+checkdownright(i,j,list)+checkdownleft(i,j,list)\n",
    "print(total)\n",
    "f.close()"
   ]
  },
  {
   "cell_type": "code",
   "execution_count": 37,
   "id": "d8d77179-a4da-43ae-8447-348ead8eeb15",
   "metadata": {},
   "outputs": [
    {
     "data": {
      "text/plain": [
       "['SAMX', 'ASAM', 'MMXS', 'XSAM']"
      ]
     },
     "execution_count": 37,
     "metadata": {},
     "output_type": "execute_result"
    }
   ],
   "source": [
    "test=[\"SAMX\",\"ASAM\",\"MMXS\",\"XSAM\"]\n",
    "test"
   ]
  },
  {
   "cell_type": "code",
   "execution_count": 38,
   "id": "0416de1d-717d-41d7-9cc5-e2933e4a3a48",
   "metadata": {},
   "outputs": [
    {
     "data": {
      "text/plain": [
       "2"
      ]
     },
     "execution_count": 38,
     "metadata": {},
     "output_type": "execute_result"
    }
   ],
   "source": [
    "list = test \n",
    "total = 0\n",
    "for i in range(len(list)):\n",
    "    for j in range(len(list[i])):\n",
    "        total+=checkup(i,j,list)+checkdown(i,j,list)+checkleft(i,j,list)+checkright(i,j,list)+checkupright(i,j,list)+checkupleft(i,j,list)+checkdownright(i,j,list)+checkdownleft(i,j,list)\n",
    "total"
   ]
  },
  {
   "cell_type": "code",
   "execution_count": 90,
   "id": "49983c2b-0984-4c51-8495-b8f15b6830f3",
   "metadata": {},
   "outputs": [],
   "source": [
    "def checkupleft2(i,j,list):\n",
    "    if (i in range(1,len(list)-1)) and (j in range(1,len(list[i])-1)) and list[i][j] == \"A\" and list[i-1][j-1] == \"M\" and list[i+1][j+1] == \"S\":\n",
    "        return True\n",
    "    elif i in range(1,len(list)-1) and j in range(1,len(list[i])-1) and list[i][j] == \"A\" and list[i-1][j-1] == \"S\" and list[i+1][j+1] == \"M\":\n",
    "        return True\n",
    "    else:\n",
    "        return False\n",
    "\n",
    "def checkupright2(i,j,list):\n",
    "    if (i in range(1,len(list)-1)) and (j in range(1,len(list[i])-1)) and list[i][j] == \"A\" and list[i-1][j+1] == \"M\" and list[i+1][j-1] == \"S\":\n",
    "        return True\n",
    "    if i in range(1,len(list)-1) and j in range(1,len(list[i])-1) and list[i][j] == \"A\" and list[i-1][j+1] == \"S\" and list[i+1][j-1] == \"M\":\n",
    "        return True\n",
    "    else:\n",
    "        return False\n"
   ]
  },
  {
   "cell_type": "code",
   "execution_count": 92,
   "id": "b5d0a2a7-982a-4806-8375-93b5c145c2ff",
   "metadata": {},
   "outputs": [
    {
     "name": "stdout",
     "output_type": "stream",
     "text": [
      "1945\n"
     ]
    }
   ],
   "source": [
    "total=0\n",
    "i=0\n",
    "list=[]\n",
    "with open(\"input4.txt\",\"r\") as f:\n",
    "    for line in f:\n",
    "        list.append(line.rstrip())\n",
    "\n",
    "for i in range(len(list)):\n",
    "    for j in range(len(list[i])):\n",
    "        if checkupleft2(i,j,list) and checkupright2(i,j,list):\n",
    "            total+=1\n",
    "print(total)\n",
    "f.close()"
   ]
  },
  {
   "cell_type": "code",
   "execution_count": 87,
   "id": "14839b8a-bc7c-40db-85e1-6334f28660c1",
   "metadata": {},
   "outputs": [
    {
     "data": {
      "text/plain": [
       "['S M', ' A ', 'M M']"
      ]
     },
     "execution_count": 87,
     "metadata": {},
     "output_type": "execute_result"
    }
   ],
   "source": [
    "test=[\"S M\",\" A \",\"M M\"]\n",
    "test"
   ]
  },
  {
   "cell_type": "code",
   "execution_count": 91,
   "id": "cfcdd84d-42e6-4598-8f2d-41e595b34365",
   "metadata": {},
   "outputs": [
    {
     "name": "stdout",
     "output_type": "stream",
     "text": [
      "0\n"
     ]
    }
   ],
   "source": [
    "total=0\n",
    "list = test\n",
    "for i in range(len(list)):\n",
    "    for j in range(len(list[i])):\n",
    "        if checkupleft2(i,j,list) and checkupright2(i,j,list):\n",
    "            total+=1\n",
    "print(total)\n"
   ]
  },
  {
   "cell_type": "code",
   "execution_count": 89,
   "id": "19a1db67-4ab3-498d-b2b4-f7db5ca570da",
   "metadata": {},
   "outputs": [
    {
     "data": {
      "text/plain": [
       "True"
      ]
     },
     "execution_count": 89,
     "metadata": {},
     "output_type": "execute_result"
    }
   ],
   "source": [
    "checkupright2(1,1,list)"
   ]
  },
  {
   "cell_type": "code",
   "execution_count": null,
   "id": "909af249-7ab4-4bd7-bbf5-972adc07a813",
   "metadata": {},
   "outputs": [],
   "source": []
  }
 ],
 "metadata": {
  "kernelspec": {
   "display_name": "Python 3 (ipykernel)",
   "language": "python",
   "name": "python3"
  },
  "language_info": {
   "codemirror_mode": {
    "name": "ipython",
    "version": 3
   },
   "file_extension": ".py",
   "mimetype": "text/x-python",
   "name": "python",
   "nbconvert_exporter": "python",
   "pygments_lexer": "ipython3",
   "version": "3.12.4"
  }
 },
 "nbformat": 4,
 "nbformat_minor": 5
}
